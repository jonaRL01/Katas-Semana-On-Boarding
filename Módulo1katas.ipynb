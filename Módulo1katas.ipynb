{
 "cells": [
  {
   "cell_type": "code",
   "execution_count": null,
   "metadata": {},
   "outputs": [],
   "source": []
  },
  {
   "cell_type": "markdown",
   "metadata": {},
   "source": [
    "## Misión: crear un programa que muestre la fecha.\n"
   ]
  },
  {
   "cell_type": "code",
   "execution_count": 3,
   "metadata": {},
   "outputs": [
    {
     "name": "stdout",
     "output_type": "stream",
     "text": [
      "Today's date is:  2022-02-12\n"
     ]
    }
   ],
   "source": [
    "from datetime import date\n",
    "print (\"Today's date is:  \" + str(date.today()))\n"
   ]
  },
  {
   "cell_type": "markdown",
   "metadata": {},
   "source": [
    "Misión: crear un programa de converción entre parsecs y años luz.\n",
    "\n",
    "Un PÁRSEC es una unidad de longitud utilizada en astronomía. Se deine como la distancia a la que se ua unidad astrónomica (ua) subtiende un  ángulo de un segundo arco. \n",
    "Au es aproximadamente a la distancia media entre la Tierra y el sol.\n",
    "\n",
    "DATOS:\n",
    "1 pársec= 206265au\n",
    "ua = 3.26156 años luz\n",
    "años luz: (30 856 804 799 935 500 metros)"
   ]
  },
  {
   "cell_type": "code",
   "execution_count": 5,
   "metadata": {},
   "outputs": [
    {
     "name": "stdout",
     "output_type": "stream",
     "text": [
      "11 parsec is 35.877159999999996 lightyears \n"
     ]
    }
   ],
   "source": [
    "parsec = 11\n",
    "\n",
    "lightyears = 3.26156 * parsec\n",
    "\n",
    "print(str(parsec) + \" parsec is \" + str(lightyears) + \" lightyears \")\n"
   ]
  }
 ],
 "metadata": {
  "interpreter": {
   "hash": "69dd09fa6bc70c67ccbf857dabbd091b895725dfb33b28a2d1b67b53820a47a3"
  },
  "kernelspec": {
   "display_name": "Python 3.10.2 64-bit",
   "language": "python",
   "name": "python3"
  },
  "language_info": {
   "codemirror_mode": {
    "name": "ipython",
    "version": 3
   },
   "file_extension": ".py",
   "mimetype": "text/x-python",
   "name": "python",
   "nbconvert_exporter": "python",
   "pygments_lexer": "ipython3",
   "version": "3.10.2"
  },
  "orig_nbformat": 4
 },
 "nbformat": 4,
 "nbformat_minor": 2
}
